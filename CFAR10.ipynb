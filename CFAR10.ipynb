{
  "nbformat": 4,
  "nbformat_minor": 0,
  "metadata": {
    "colab": {
      "provenance": [],
      "authorship_tag": "ABX9TyNEo81Z4E5jfwM4cTBWjdqz",
      "include_colab_link": true
    },
    "kernelspec": {
      "name": "python3",
      "display_name": "Python 3"
    },
    "language_info": {
      "name": "python"
    },
    "accelerator": "GPU",
    "gpuClass": "standard"
  },
  "cells": [
    {
      "cell_type": "markdown",
      "metadata": {
        "id": "view-in-github",
        "colab_type": "text"
      },
      "source": [
        "<a href=\"https://colab.research.google.com/github/nikhil-xyz/ImageClassification/blob/main/CFAR10.ipynb\" target=\"_parent\"><img src=\"https://colab.research.google.com/assets/colab-badge.svg\" alt=\"Open In Colab\"/></a>"
      ]
    },
    {
      "cell_type": "markdown",
      "source": [
        "Model wiil be trained to distinguised 10 different image classes. Input samplees are taked from tensorflow-keras dataset."
      ],
      "metadata": {
        "id": "ZRUK258yn6om"
      }
    },
    {
      "cell_type": "code",
      "execution_count": 1,
      "metadata": {
        "id": "Qhspec8UaPyv"
      },
      "outputs": [],
      "source": [
        "import tensorflow as tf\n",
        "from tensorflow import keras"
      ]
    },
    {
      "cell_type": "code",
      "source": [
        "(x_train, y_train), (x_test, y_test) = keras.datasets.cifar10.load_data()"
      ],
      "metadata": {
        "id": "z10Hul7KacvZ",
        "colab": {
          "base_uri": "https://localhost:8080/"
        },
        "outputId": "54d7d3bd-5b8b-482a-ac12-fa5095459ee5"
      },
      "execution_count": 2,
      "outputs": [
        {
          "output_type": "stream",
          "name": "stdout",
          "text": [
            "Downloading data from https://www.cs.toronto.edu/~kriz/cifar-10-python.tar.gz\n",
            "170498071/170498071 [==============================] - 2s 0us/step\n"
          ]
        }
      ]
    },
    {
      "cell_type": "code",
      "source": [
        "x_train.shape"
      ],
      "metadata": {
        "colab": {
          "base_uri": "https://localhost:8080/"
        },
        "id": "KqlystW0atzv",
        "outputId": "a32c22b3-34f3-4e02-f95e-a8a666da7588"
      },
      "execution_count": 3,
      "outputs": [
        {
          "output_type": "execute_result",
          "data": {
            "text/plain": [
              "(50000, 32, 32, 3)"
            ]
          },
          "metadata": {},
          "execution_count": 3
        }
      ]
    },
    {
      "cell_type": "code",
      "source": [
        "x_test.shape"
      ],
      "metadata": {
        "colab": {
          "base_uri": "https://localhost:8080/"
        },
        "id": "o13hb3XAaxan",
        "outputId": "041bd28f-4953-478e-8c87-a64ecb439693"
      },
      "execution_count": 4,
      "outputs": [
        {
          "output_type": "execute_result",
          "data": {
            "text/plain": [
              "(10000, 32, 32, 3)"
            ]
          },
          "metadata": {},
          "execution_count": 4
        }
      ]
    },
    {
      "cell_type": "markdown",
      "source": [
        "scaling and inserting in new list"
      ],
      "metadata": {
        "id": "90RYFRZG0-2q"
      }
    },
    {
      "cell_type": "code",
      "source": [
        "X = []\n",
        "for img in x_train:\n",
        "  X.append(img/255)\n",
        "for img in x_test:\n",
        "  X.append(img/255)"
      ],
      "metadata": {
        "id": "vhsj1QGFzU1s"
      },
      "execution_count": 5,
      "outputs": []
    },
    {
      "cell_type": "code",
      "source": [
        "len(X)"
      ],
      "metadata": {
        "id": "vzoUa-Br1zAj",
        "outputId": "612e2431-e2e9-4fbc-ec1e-a55e4fd17a56",
        "colab": {
          "base_uri": "https://localhost:8080/"
        }
      },
      "execution_count": 6,
      "outputs": [
        {
          "output_type": "execute_result",
          "data": {
            "text/plain": [
              "60000"
            ]
          },
          "metadata": {},
          "execution_count": 6
        }
      ]
    },
    {
      "cell_type": "code",
      "source": [
        "y = []\n",
        "for img in y_train:\n",
        "  y.append(img)\n",
        "for img in y_test:\n",
        "  y.append(img)"
      ],
      "metadata": {
        "id": "o5U3mGkdz5Nr"
      },
      "execution_count": 7,
      "outputs": []
    },
    {
      "cell_type": "code",
      "source": [
        "import matplotlib.pyplot as plt\n",
        "plt.imshow(X[0])\n",
        "print(y[0])"
      ],
      "metadata": {
        "id": "DjL6_umEa0_n",
        "outputId": "b287d199-2820-403f-9fe8-fcd30c79a81b",
        "colab": {
          "base_uri": "https://localhost:8080/",
          "height": 283
        }
      },
      "execution_count": 8,
      "outputs": [
        {
          "output_type": "stream",
          "name": "stdout",
          "text": [
            "[6]\n"
          ]
        },
        {
          "output_type": "display_data",
          "data": {
            "text/plain": [
              "<Figure size 432x288 with 1 Axes>"
            ],
            "image/png": "[encoded data removed]"
          },
          "metadata": {
            "needs_background": "light"
          }
        }
      ]
    },
    {
      "cell_type": "code",
      "source": [
        "X[0]"
      ],
      "metadata": {
        "id": "WdbT8_S6a9Y9"
      },
      "execution_count": null,
      "outputs": []
    },
    {
      "cell_type": "markdown",
      "source": [
        "Organizing data in batches"
      ],
      "metadata": {
        "id": "aC9eCDDQ1kX7"
      }
    },
    {
      "cell_type": "code",
      "source": [
        "import numpy as np"
      ],
      "metadata": {
        "id": "QT5GNzxB2oMi"
      },
      "execution_count": 10,
      "outputs": []
    },
    {
      "cell_type": "code",
      "source": [
        "X = np.array(X)"
      ],
      "metadata": {
        "id": "5cvaT4-a2jCL"
      },
      "execution_count": 11,
      "outputs": []
    },
    {
      "cell_type": "code",
      "source": [
        "dataset = tf.data.Dataset.from_tensor_slices((X, y))\n",
        "dataset = dataset.cache()\n",
        "dataset = dataset.shuffle(60000)\n",
        "dataset = dataset.batch(16)\n",
        "dataset = dataset.prefetch(8)"
      ],
      "metadata": {
        "id": "GytbcxD-1jEs"
      },
      "execution_count": 12,
      "outputs": []
    },
    {
      "cell_type": "markdown",
      "source": [
        "Splitting data into train, test, split"
      ],
      "metadata": {
        "id": "-QlHXDfy24_D"
      }
    },
    {
      "cell_type": "code",
      "source": [
        "train = dataset.take(int(len(dataset)*0.7))\n",
        "val = dataset.skip(int(len(dataset)*0.7)).take(int(len(dataset)*0.2))\n",
        "test = dataset.skip(int(len(dataset)*0.9)).take(int(len(dataset)*0.1))"
      ],
      "metadata": {
        "id": "_GZBkCBJ28Xz"
      },
      "execution_count": 13,
      "outputs": []
    },
    {
      "cell_type": "markdown",
      "source": [
        "Data Augmentation"
      ],
      "metadata": {
        "id": "lalMMiWk5VI0"
      }
    },
    {
      "cell_type": "code",
      "source": [
        "data_augmentation = keras.Sequential([\n",
        "    tf.keras.layers.experimental.preprocessing.RandomFlip(\"horizontal\", input_shape=(32, 32, 3)),\n",
        "    tf.keras.layers.experimental.preprocessing.RandomRotation(0.1),\n",
        "    tf.keras.layers.experimental.preprocessing.RandomZoom(0.1)\n",
        "])"
      ],
      "metadata": {
        "id": "vMbmdCnl5XoL"
      },
      "execution_count": 14,
      "outputs": []
    },
    {
      "cell_type": "markdown",
      "source": [
        "Model Building with Augmentation layer"
      ],
      "metadata": {
        "id": "2_WlXxiA3ukK"
      }
    },
    {
      "cell_type": "code",
      "source": [
        "from tensorflow.keras import models"
      ],
      "metadata": {
        "id": "QabEZHbtdJoG"
      },
      "execution_count": 15,
      "outputs": []
    },
    {
      "cell_type": "code",
      "source": [
        "cnn_with_augmentation = models.Sequential([\n",
        "    data_augmentation,\n",
        "    keras.layers.Conv2D(40, (3, 3), activation='relu'),\n",
        "    keras.layers.MaxPool2D(),\n",
        "\n",
        "    keras.layers.Conv2D(80, (3, 3), activation='relu'),\n",
        "    keras.layers.MaxPool2D(),\n",
        "\n",
        "    keras.layers.Conv2D(40, (3, 3), activation='relu'),\n",
        "    keras.layers.MaxPool2D(),\n",
        "\n",
        "    keras.layers.Dropout(0.3),\n",
        "\n",
        "    keras.layers.Flatten(),\n",
        "    keras.layers.Dense(64, activation='relu'),\n",
        "    keras.layers.Dense(10, activation='sigmoid')\n",
        "])"
      ],
      "metadata": {
        "id": "0x6PDgMVbGXg"
      },
      "execution_count": 16,
      "outputs": []
    },
    {
      "cell_type": "code",
      "source": [
        "cnn_with_augmentation.compile(loss='sparse_categorical_crossentropy', optimizer='adam', metrics=['accuracy'])"
      ],
      "metadata": {
        "id": "trWDVarOdfOG"
      },
      "execution_count": 17,
      "outputs": []
    },
    {
      "cell_type": "code",
      "source": [
        "cnn_with_augmentation.fit(train, validation_data=val, epochs=20)"
      ],
      "metadata": {
        "colab": {
          "base_uri": "https://localhost:8080/"
        },
        "id": "IToqMoqRduBD",
        "outputId": "412c072d-b95d-4ca7-f9d1-3b9f9ac7705b"
      },
      "execution_count": 18,
      "outputs": [
        {
          "output_type": "stream",
          "name": "stdout",
          "text": [
            "Epoch 1/20\n",
            "2625/2625 [==============================] - 100s 37ms/step - loss: 1.7875 - accuracy: 0.3399 - val_loss: 1.4763 - val_accuracy: 0.4609\n",
            "Epoch 2/20\n",
            "2625/2625 [==============================] - 95s 36ms/step - loss: 1.5401 - accuracy: 0.4358 - val_loss: 1.3261 - val_accuracy: 0.5165\n",
            "Epoch 3/20\n",
            "2625/2625 [==============================] - 115s 44ms/step - loss: 1.4456 - accuracy: 0.4768 - val_loss: 1.3250 - val_accuracy: 0.5193\n",
            "Epoch 4/20\n",
            "2625/2625 [==============================] - 115s 44ms/step - loss: 1.3907 - accuracy: 0.4937 - val_loss: 1.1947 - val_accuracy: 0.5738\n",
            "Epoch 5/20\n",
            "2625/2625 [==============================] - 97s 37ms/step - loss: 1.3550 - accuracy: 0.5102 - val_loss: 1.1839 - val_accuracy: 0.5805\n",
            "Epoch 6/20\n",
            "2625/2625 [==============================] - 92s 35ms/step - loss: 1.3239 - accuracy: 0.5231 - val_loss: 1.1422 - val_accuracy: 0.5943\n",
            "Epoch 7/20\n",
            "2625/2625 [==============================] - 100s 38ms/step - loss: 1.2965 - accuracy: 0.5344 - val_loss: 1.0912 - val_accuracy: 0.6069\n",
            "Epoch 8/20\n",
            "2625/2625 [==============================] - 95s 36ms/step - loss: 1.2815 - accuracy: 0.5395 - val_loss: 1.0930 - val_accuracy: 0.6041\n",
            "Epoch 9/20\n",
            "2625/2625 [==============================] - 93s 36ms/step - loss: 1.2672 - accuracy: 0.5478 - val_loss: 1.0768 - val_accuracy: 0.6200\n",
            "Epoch 10/20\n",
            "2625/2625 [==============================] - 92s 35ms/step - loss: 1.2496 - accuracy: 0.5547 - val_loss: 1.1058 - val_accuracy: 0.6083\n",
            "Epoch 11/20\n",
            "2625/2625 [==============================] - 92s 35ms/step - loss: 1.2445 - accuracy: 0.5562 - val_loss: 1.0352 - val_accuracy: 0.6348\n",
            "Epoch 12/20\n",
            "2625/2625 [==============================] - 92s 35ms/step - loss: 1.2180 - accuracy: 0.5685 - val_loss: 1.0517 - val_accuracy: 0.6299\n",
            "Epoch 13/20\n",
            "2625/2625 [==============================] - 92s 35ms/step - loss: 1.2216 - accuracy: 0.5648 - val_loss: 1.1546 - val_accuracy: 0.5954\n",
            "Epoch 14/20\n",
            "2625/2625 [==============================] - 91s 35ms/step - loss: 1.2045 - accuracy: 0.5714 - val_loss: 1.0621 - val_accuracy: 0.6242\n",
            "Epoch 15/20\n",
            "2625/2625 [==============================] - 91s 35ms/step - loss: 1.1965 - accuracy: 0.5728 - val_loss: 1.0590 - val_accuracy: 0.6296\n",
            "Epoch 16/20\n",
            "2625/2625 [==============================] - 92s 35ms/step - loss: 1.1884 - accuracy: 0.5756 - val_loss: 1.0419 - val_accuracy: 0.6315\n",
            "Epoch 17/20\n",
            "2625/2625 [==============================] - 91s 35ms/step - loss: 1.1878 - accuracy: 0.5790 - val_loss: 1.0548 - val_accuracy: 0.6302\n",
            "Epoch 18/20\n",
            "2625/2625 [==============================] - 89s 34ms/step - loss: 1.1756 - accuracy: 0.5796 - val_loss: 1.0328 - val_accuracy: 0.6349\n",
            "Epoch 19/20\n",
            "2625/2625 [==============================] - 91s 35ms/step - loss: 1.1613 - accuracy: 0.5871 - val_loss: 0.9968 - val_accuracy: 0.6552\n",
            "Epoch 20/20\n",
            "2625/2625 [==============================] - 92s 35ms/step - loss: 1.1594 - accuracy: 0.5877 - val_loss: 1.0337 - val_accuracy: 0.6352\n"
          ]
        },
        {
          "output_type": "execute_result",
          "data": {
            "text/plain": [
              "<keras.callbacks.History at 0x7fb2e92fc0d0>"
            ]
          },
          "metadata": {},
          "execution_count": 18
        }
      ]
    },
    {
      "cell_type": "markdown",
      "source": [
        "Model Building without Augmentation"
      ],
      "metadata": {
        "id": "_qwNbCo78xyt"
      }
    },
    {
      "cell_type": "code",
      "source": [
        "cnn_without_augmentation = models.Sequential([\n",
        "    keras.layers.Conv2D(40, (3, 3), activation='relu', input_shape=(32, 32, 3)),\n",
        "    keras.layers.MaxPool2D(),\n",
        "\n",
        "    keras.layers.Conv2D(80, (3, 3), activation='relu'),\n",
        "    keras.layers.MaxPool2D(),\n",
        "\n",
        "    keras.layers.Conv2D(40, (3, 3), activation='relu'),\n",
        "    keras.layers.MaxPool2D(),\n",
        "\n",
        "    keras.layers.Flatten(),\n",
        "    keras.layers.Dense(64, activation='relu'),\n",
        "    keras.layers.Dense(10, activation='sigmoid')\n",
        "])"
      ],
      "metadata": {
        "id": "qXG6tXs481-T"
      },
      "execution_count": 19,
      "outputs": []
    },
    {
      "cell_type": "code",
      "source": [
        "cnn_without_augmentation.compile(loss='sparse_categorical_crossentropy', optimizer='adam', metrics=['accuracy'])"
      ],
      "metadata": {
        "id": "VcKomEvo9FDz"
      },
      "execution_count": 20,
      "outputs": []
    },
    {
      "cell_type": "code",
      "source": [
        "cnn_without_augmentation.fit(train, validation_data=val, epochs=20)"
      ],
      "metadata": {
        "colab": {
          "base_uri": "https://localhost:8080/"
        },
        "id": "6jU_7zp7d4HP",
        "outputId": "31c038a1-0db3-4ccf-b46e-421822606105"
      },
      "execution_count": 21,
      "outputs": [
        {
          "output_type": "stream",
          "name": "stdout",
          "text": [
            "Epoch 1/20\n",
            "2625/2625 [==============================] - 83s 31ms/step - loss: 1.5645 - accuracy: 0.4236 - val_loss: 1.3099 - val_accuracy: 0.5184\n",
            "Epoch 2/20\n",
            "2625/2625 [==============================] - 81s 31ms/step - loss: 1.2323 - accuracy: 0.5598 - val_loss: 1.1683 - val_accuracy: 0.5884\n",
            "Epoch 3/20\n",
            "2625/2625 [==============================] - 86s 33ms/step - loss: 1.0984 - accuracy: 0.6109 - val_loss: 0.9895 - val_accuracy: 0.6488\n",
            "Epoch 4/20\n",
            "2625/2625 [==============================] - 91s 35ms/step - loss: 1.0075 - accuracy: 0.6470 - val_loss: 0.8975 - val_accuracy: 0.6823\n",
            "Epoch 5/20\n",
            "2625/2625 [==============================] - 90s 34ms/step - loss: 0.9404 - accuracy: 0.6697 - val_loss: 0.8619 - val_accuracy: 0.6913\n",
            "Epoch 6/20\n",
            "2625/2625 [==============================] - 88s 34ms/step - loss: 0.8946 - accuracy: 0.6864 - val_loss: 0.8483 - val_accuracy: 0.7067\n",
            "Epoch 7/20\n",
            "2625/2625 [==============================] - 90s 34ms/step - loss: 0.8393 - accuracy: 0.7048 - val_loss: 0.8111 - val_accuracy: 0.7153\n",
            "Epoch 8/20\n",
            "2625/2625 [==============================] - 90s 34ms/step - loss: 0.8073 - accuracy: 0.7179 - val_loss: 0.7420 - val_accuracy: 0.7386\n",
            "Epoch 9/20\n",
            "2625/2625 [==============================] - 89s 34ms/step - loss: 0.7726 - accuracy: 0.7296 - val_loss: 0.7321 - val_accuracy: 0.7425\n",
            "Epoch 10/20\n",
            "2625/2625 [==============================] - 89s 34ms/step - loss: 0.7462 - accuracy: 0.7407 - val_loss: 0.7398 - val_accuracy: 0.7390\n",
            "Epoch 11/20\n",
            "2625/2625 [==============================] - 90s 34ms/step - loss: 0.7186 - accuracy: 0.7488 - val_loss: 0.6423 - val_accuracy: 0.7735\n",
            "Epoch 12/20\n",
            "2625/2625 [==============================] - 91s 35ms/step - loss: 0.7027 - accuracy: 0.7534 - val_loss: 0.7220 - val_accuracy: 0.7442\n",
            "Epoch 13/20\n",
            "2625/2625 [==============================] - 91s 35ms/step - loss: 0.6771 - accuracy: 0.7632 - val_loss: 0.6150 - val_accuracy: 0.7832\n",
            "Epoch 14/20\n",
            "2625/2625 [==============================] - 89s 34ms/step - loss: 0.6544 - accuracy: 0.7714 - val_loss: 0.6471 - val_accuracy: 0.7752\n",
            "Epoch 15/20\n",
            "2625/2625 [==============================] - 91s 35ms/step - loss: 0.6460 - accuracy: 0.7724 - val_loss: 0.6436 - val_accuracy: 0.7793\n",
            "Epoch 16/20\n",
            "2625/2625 [==============================] - 109s 42ms/step - loss: 0.6266 - accuracy: 0.7795 - val_loss: 0.6098 - val_accuracy: 0.7840\n",
            "Epoch 17/20\n",
            "2625/2625 [==============================] - 111s 42ms/step - loss: 0.6097 - accuracy: 0.7866 - val_loss: 0.5328 - val_accuracy: 0.8131\n",
            "Epoch 18/20\n",
            "2625/2625 [==============================] - 115s 44ms/step - loss: 0.5905 - accuracy: 0.7922 - val_loss: 0.5564 - val_accuracy: 0.8033\n",
            "Epoch 19/20\n",
            "2625/2625 [==============================] - 115s 44ms/step - loss: 0.5809 - accuracy: 0.7960 - val_loss: 0.5373 - val_accuracy: 0.8110\n",
            "Epoch 20/20\n",
            "2625/2625 [==============================] - 123s 47ms/step - loss: 0.5713 - accuracy: 0.7987 - val_loss: 0.5158 - val_accuracy: 0.8174\n"
          ]
        },
        {
          "output_type": "execute_result",
          "data": {
            "text/plain": [
              "<keras.callbacks.History at 0x7fb2e9996d60>"
            ]
          },
          "metadata": {},
          "execution_count": 21
        }
      ]
    },
    {
      "cell_type": "code",
      "source": [
        "cnn_without_augmentation.evaluate(test)"
      ],
      "metadata": {
        "colab": {
          "base_uri": "https://localhost:8080/"
        },
        "id": "1VGW5piod2m9",
        "outputId": "84686323-140e-4881-a146-3cd274f968ad"
      },
      "execution_count": 23,
      "outputs": [
        {
          "output_type": "stream",
          "name": "stdout",
          "text": [
            "375/375 [==============================] - 5s 8ms/step - loss: 0.5294 - accuracy: 0.8083\n"
          ]
        },
        {
          "output_type": "execute_result",
          "data": {
            "text/plain": [
              "[0.5294471979141235, 0.8083333373069763]"
            ]
          },
          "metadata": {},
          "execution_count": 23
        }
      ]
    },
    {
      "cell_type": "code",
      "source": [
        "classes = [\"airplane\", \"automoile\", \"bird\", \"cat\", \"deer\", \"dog\", \"frog\", \"horse\", \"ship\", \"truck\"]"
      ],
      "metadata": {
        "id": "MPWnOn-OKGWn"
      },
      "execution_count": 24,
      "outputs": []
    },
    {
      "cell_type": "code",
      "source": [
        "len(test)"
      ],
      "metadata": {
        "id": "ulAVPhpJcHU2",
        "outputId": "e0ed1ff3-4377-4d27-ea5a-bef5f9cdff96",
        "colab": {
          "base_uri": "https://localhost:8080/"
        }
      },
      "execution_count": 30,
      "outputs": [
        {
          "output_type": "execute_result",
          "data": {
            "text/plain": [
              "375"
            ]
          },
          "metadata": {},
          "execution_count": 30
        }
      ]
    },
    {
      "cell_type": "code",
      "source": [
        "x_test.shape"
      ],
      "metadata": {
        "id": "laW8IS40hd--",
        "outputId": "3e770417-fd8b-4c88-81db-27764dceb086",
        "colab": {
          "base_uri": "https://localhost:8080/"
        }
      },
      "execution_count": 58,
      "outputs": [
        {
          "output_type": "execute_result",
          "data": {
            "text/plain": [
              "(10000, 32, 32, 3)"
            ]
          },
          "metadata": {},
          "execution_count": 58
        }
      ]
    },
    {
      "cell_type": "code",
      "source": [
        "for i in range(5):\n",
        "  image, label = x_test[i]/255, y_test[i]\n",
        "  # print(label)\n",
        "  imageNew = np.expand_dims(image, axis=0)\n",
        "  predImg = cnn_without_augmentation.predict(imageNew)\n",
        "  # print(predImg)\n",
        "  plt.figure()\n",
        "  plt.imshow(image)\n",
        "  plt.show()\n",
        "  print(\"Actual Label : \", classes[label[0]])\n",
        "  print(\"Predicted Label : \", classes[np.argmax(predImg)])"
      ],
      "metadata": {
        "colab": {
          "base_uri": "https://localhost:8080/",
          "height": 1000
        },
        "id": "EyZxR56gd6Pk",
        "outputId": "3f01ff38-046b-47c7-b13b-8fc00117e6b2"
      },
      "execution_count": 65,
      "outputs": [
        {
          "output_type": "stream",
          "name": "stdout",
          "text": [
            "1/1 [==============================] - 0s 16ms/step\n"
          ]
        },
        {
          "output_type": "display_data",
          "data": {
            "text/plain": [
              "<Figure size 432x288 with 1 Axes>"
            ],
            "image/png": "[encoded data removed]"
          },
          "metadata": {
            "needs_background": "light"
          }
        },
        {
          "output_type": "stream",
          "name": "stdout",
          "text": [
            "Actual Label :  cat\n",
            "Predicted Label :  cat\n",
            "1/1 [==============================] - 0s 18ms/step\n"
          ]
        },
        {
          "output_type": "display_data",
          "data": {
            "text/plain": [
              "<Figure size 432x288 with 1 Axes>"
            ],
            "image/png": "[encoded data removed]"
          },
          "metadata": {
            "needs_background": "light"
          }
        },
        {
          "output_type": "stream",
          "name": "stdout",
          "text": [
            "Actual Label :  ship\n",
            "Predicted Label :  ship\n",
            "1/1 [==============================] - 0s 16ms/step\n"
          ]
        },
        {
          "output_type": "display_data",
          "data": {
            "text/plain": [
              "<Figure size 432x288 with 1 Axes>"
            ],
            "image/png": "[encoded data removed]"
          },
          "metadata": {
            "needs_background": "light"
          }
        },
        {
          "output_type": "stream",
          "name": "stdout",
          "text": [
            "Actual Label :  ship\n",
            "Predicted Label :  ship\n",
            "1/1 [==============================] - 0s 19ms/step\n"
          ]
        },
        {
          "output_type": "display_data",
          "data": {
            "text/plain": [
              "<Figure size 432x288 with 1 Axes>"
            ],
            "image/png": "[encoded data removed]"
          },
          "metadata": {
            "needs_background": "light"
          }
        },
        {
          "output_type": "stream",
          "name": "stdout",
          "text": [
            "Actual Label :  airplane\n",
            "Predicted Label :  airplane\n",
            "1/1 [==============================] - 0s 15ms/step\n"
          ]
        },
        {
          "output_type": "display_data",
          "data": {
            "text/plain": [
              "<Figure size 432x288 with 1 Axes>"
            ],
            "image/png": "[encoded data removed]"
          },
          "metadata": {
            "needs_background": "light"
          }
        },
        {
          "output_type": "stream",
          "name": "stdout",
          "text": [
            "Actual Label :  frog\n",
            "Predicted Label :  frog\n"
          ]
        }
      ]
    },
    {
      "cell_type": "markdown",
      "source": [
        "Generating Heatmap"
      ],
      "metadata": {
        "id": "YbV-w-_VeoP8"
      }
    },
    {
      "cell_type": "code",
      "source": [
        "x_test = x_test / 255"
      ],
      "metadata": {
        "id": "DjQ9-btV6PAo"
      },
      "execution_count": 158,
      "outputs": []
    },
    {
      "cell_type": "code",
      "source": [
        "y_pred = cnn_without_augmentation.predict(x_test)"
      ],
      "metadata": {
        "id": "m6KEZ_wqrZGu",
        "outputId": "611916c5-5ac8-4f35-d969-677566442640",
        "colab": {
          "base_uri": "https://localhost:8080/"
        }
      },
      "execution_count": 159,
      "outputs": [
        {
          "output_type": "stream",
          "name": "stdout",
          "text": [
            "313/313 [==============================] - 4s 14ms/step\n"
          ]
        }
      ]
    },
    {
      "cell_type": "code",
      "source": [
        "y_pred = [np.argmax(y) for y in y_pred]"
      ],
      "metadata": {
        "id": "RtRuqbiQxWiB"
      },
      "execution_count": 160,
      "outputs": []
    },
    {
      "cell_type": "code",
      "source": [
        "y_pred = np.array(y_pred)"
      ],
      "metadata": {
        "id": "XdR1Ihez3U0n"
      },
      "execution_count": 161,
      "outputs": []
    },
    {
      "cell_type": "code",
      "source": [
        "cm = tf.math.confusion_matrix(labels=y_test, predictions=y_pred, num_classes=10)"
      ],
      "metadata": {
        "id": "05K9UX0U-9Sl"
      },
      "execution_count": 162,
      "outputs": []
    },
    {
      "cell_type": "code",
      "source": [
        "import seaborn as sns"
      ],
      "metadata": {
        "id": "5AUwwMoVeilL"
      },
      "execution_count": 163,
      "outputs": []
    },
    {
      "cell_type": "code",
      "source": [
        "plt.figure(figsize = (12, 8))\n",
        "sns.heatmap(cm, annot=True, fmt='d', cmap='Blues')\n",
        "plt.xlabel('Predicted')\n",
        "plt.ylabel('True')"
      ],
      "metadata": {
        "colab": {
          "base_uri": "https://localhost:8080/",
          "height": 514
        },
        "id": "I26i3XV0esr0",
        "outputId": "867d62fc-7281-40e5-d433-ffcb7473d8c6"
      },
      "execution_count": 164,
      "outputs": [
        {
          "output_type": "execute_result",
          "data": {
            "text/plain": [
              "Text(87.0, 0.5, 'True')"
            ]
          },
          "metadata": {},
          "execution_count": 164
        },
        {
          "output_type": "display_data",
          "data": {
            "text/plain": [
              "<Figure size 864x576 with 2 Axes>"
            ],
            "image/png": "[encoded data removed]"
          },
          "metadata": {
            "needs_background": "light"
          }
        }
      ]
    },
    {
      "cell_type": "code",
      "source": [],
      "metadata": {
        "id": "l-nZci-I6Yzt"
      },
      "execution_count": null,
      "outputs": []
    }
  ]
}