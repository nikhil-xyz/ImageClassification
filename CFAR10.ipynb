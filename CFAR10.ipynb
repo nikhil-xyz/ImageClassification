{
  "nbformat": 4,
  "nbformat_minor": 0,
  "metadata": {
    "colab": {
      "provenance": [],
      "authorship_tag": "ABX9TyPYchTAGdC+lDo68OO1vMbo",
      "include_colab_link": true
    },
    "kernelspec": {
      "name": "python3",
      "display_name": "Python 3"
    },
    "language_info": {
      "name": "python"
    }
  },
  "cells": [
    {
      "cell_type": "markdown",
      "metadata": {
        "id": "view-in-github",
        "colab_type": "text"
      },
      "source": [
        "<a href=\"https://colab.research.google.com/github/nikhil-xyz/ImageClassification/blob/main/CFAR10.ipynb\" target=\"_parent\"><img src=\"https://colab.research.google.com/assets/colab-badge.svg\" alt=\"Open In Colab\"/></a>"
      ]
    },
    {
      "cell_type": "code",
      "execution_count": 1,
      "metadata": {
        "id": "Qhspec8UaPyv"
      },
      "outputs": [],
      "source": [
        "import tensorflow as tf\n",
        "from tensorflow import keras"
      ]
    },
    {
      "cell_type": "code",
      "source": [
        "(x_train, y_train), (x_test, y_test) = keras.datasets.cifar10.load_data()"
      ],
      "metadata": {
        "colab": {
          "base_uri": "https://localhost:8080/"
        },
        "id": "z10Hul7KacvZ",
        "outputId": "be29f251-66b0-4f7e-b107-930a40ebbc4f"
      },
      "execution_count": 2,
      "outputs": [
        {
          "output_type": "stream",
          "name": "stdout",
          "text": [
            "Downloading data from https://www.cs.toronto.edu/~kriz/cifar-10-python.tar.gz\n",
            "170498071/170498071 [==============================] - 2s 0us/step\n"
          ]
        }
      ]
    },
    {
      "cell_type": "code",
      "source": [
        "x_train.shape"
      ],
      "metadata": {
        "colab": {
          "base_uri": "https://localhost:8080/"
        },
        "id": "KqlystW0atzv",
        "outputId": "19960e42-137c-446a-f487-7e6a2f6567d7"
      },
      "execution_count": 3,
      "outputs": [
        {
          "output_type": "execute_result",
          "data": {
            "text/plain": [
              "(50000, 32, 32, 3)"
            ]
          },
          "metadata": {},
          "execution_count": 3
        }
      ]
    },
    {
      "cell_type": "code",
      "source": [
        "y_train.shape"
      ],
      "metadata": {
        "colab": {
          "base_uri": "https://localhost:8080/"
        },
        "id": "o13hb3XAaxan",
        "outputId": "98154559-3bfa-46d0-89b0-c3044d0adacd"
      },
      "execution_count": 4,
      "outputs": [
        {
          "output_type": "execute_result",
          "data": {
            "text/plain": [
              "(50000, 1)"
            ]
          },
          "metadata": {},
          "execution_count": 4
        }
      ]
    },
    {
      "cell_type": "code",
      "source": [
        "x_test.shape"
      ],
      "metadata": {
        "colab": {
          "base_uri": "https://localhost:8080/"
        },
        "id": "qz8IC5CpazMS",
        "outputId": "2682d309-65f6-40fb-cdce-3d3bce8087f5"
      },
      "execution_count": 5,
      "outputs": [
        {
          "output_type": "execute_result",
          "data": {
            "text/plain": [
              "(10000, 32, 32, 3)"
            ]
          },
          "metadata": {},
          "execution_count": 5
        }
      ]
    },
    {
      "cell_type": "code",
      "source": [
        "import matplotlib.pyplot as plt\n"
      ],
      "metadata": {
        "id": "DjL6_umEa0_n"
      },
      "execution_count": 6,
      "outputs": []
    },
    {
      "cell_type": "code",
      "source": [
        "plt.imshow(x_train[0])"
      ],
      "metadata": {
        "colab": {
          "base_uri": "https://localhost:8080/",
          "height": 283
        },
        "id": "DTrmvqQwa6BI",
        "outputId": "a4ab98ae-a135-4b1c-8ca4-9a0d867b3382"
      },
      "execution_count": 7,
      "outputs": [
        {
          "output_type": "execute_result",
          "data": {
            "text/plain": [
              "<matplotlib.image.AxesImage at 0x7f7ca0a2c2e0>"
            ]
          },
          "metadata": {},
          "execution_count": 7
        },
        {
          "output_type": "display_data",
          "data": {
            "text/plain": [
              "<Figure size 432x288 with 1 Axes>"
            ],
            "image/png": "[encoded data removed]"
          },
          "metadata": {
            "needs_background": "light"
          }
        }
      ]
    },
    {
      "cell_type": "code",
      "source": [
        "x_train = x_train / 255\n",
        "x_test = x_test / 255"
      ],
      "metadata": {
        "id": "WdbT8_S6a9Y9"
      },
      "execution_count": 8,
      "outputs": []
    },
    {
      "cell_type": "code",
      "source": [
        "from tensorflow.keras import models"
      ],
      "metadata": {
        "id": "QabEZHbtdJoG"
      },
      "execution_count": 9,
      "outputs": []
    },
    {
      "cell_type": "code",
      "source": [
        "cnn = models.Sequential([\n",
        "    keras.layers.Conv2D(40, (3, 3), activation='relu', input_shape=(32,32,3)),\n",
        "    keras.layers.MaxPool2D(),\n",
        "\n",
        "    keras.layers.Conv2D(80, (3, 3), activation='relu'),\n",
        "    keras.layers.MaxPool2D(),\n",
        "\n",
        "    keras.layers.Conv2D(40, (3, 3), activation='relu'),\n",
        "    keras.layers.MaxPool2D(),\n",
        "\n",
        "    keras.layers.Flatten(),\n",
        "    keras.layers.Dense(64, activation='relu'),\n",
        "    keras.layers.Dense(10, activation='sigmoid')\n",
        "])"
      ],
      "metadata": {
        "id": "0x6PDgMVbGXg"
      },
      "execution_count": 10,
      "outputs": []
    },
    {
      "cell_type": "code",
      "source": [
        "cnn.compile(loss='sparse_categorical_crossentropy', optimizer='adam', metrics=['accuracy'])"
      ],
      "metadata": {
        "id": "trWDVarOdfOG"
      },
      "execution_count": 11,
      "outputs": []
    },
    {
      "cell_type": "code",
      "source": [
        "cnn.fit(x_train, y_train, epochs=20)"
      ],
      "metadata": {
        "colab": {
          "base_uri": "https://localhost:8080/"
        },
        "id": "IToqMoqRduBD",
        "outputId": "d0570f5d-c033-46f2-9705-4fc79032f77b"
      },
      "execution_count": 13,
      "outputs": [
        {
          "output_type": "stream",
          "name": "stdout",
          "text": [
            "Epoch 1/20\n",
            "1563/1563 [==============================] - 97s 62ms/step - loss: 0.7725 - accuracy: 0.7278\n",
            "Epoch 2/20\n",
            "1563/1563 [==============================] - 93s 59ms/step - loss: 0.7481 - accuracy: 0.7378\n",
            "Epoch 3/20\n",
            "1563/1563 [==============================] - 92s 59ms/step - loss: 0.7253 - accuracy: 0.7449\n",
            "Epoch 4/20\n",
            "1563/1563 [==============================] - 93s 60ms/step - loss: 0.7005 - accuracy: 0.7540\n",
            "Epoch 5/20\n",
            "1563/1563 [==============================] - 93s 60ms/step - loss: 0.6795 - accuracy: 0.7600\n",
            "Epoch 6/20\n",
            "1563/1563 [==============================] - 97s 62ms/step - loss: 0.6608 - accuracy: 0.7667\n",
            "Epoch 7/20\n",
            "1563/1563 [==============================] - 93s 60ms/step - loss: 0.6460 - accuracy: 0.7723\n",
            "Epoch 8/20\n",
            "1563/1563 [==============================] - 94s 60ms/step - loss: 0.6280 - accuracy: 0.7783\n",
            "Epoch 9/20\n",
            "1563/1563 [==============================] - 95s 60ms/step - loss: 0.6107 - accuracy: 0.7858\n",
            "Epoch 10/20\n",
            "1563/1563 [==============================] - 97s 62ms/step - loss: 0.5974 - accuracy: 0.7876\n",
            "Epoch 11/20\n",
            "1563/1563 [==============================] - 93s 60ms/step - loss: 0.5779 - accuracy: 0.7959\n",
            "Epoch 12/20\n",
            "1563/1563 [==============================] - 95s 61ms/step - loss: 0.5601 - accuracy: 0.8026\n",
            "Epoch 13/20\n",
            "1563/1563 [==============================] - 95s 61ms/step - loss: 0.5536 - accuracy: 0.8050\n",
            "Epoch 14/20\n",
            "1563/1563 [==============================] - 97s 62ms/step - loss: 0.5354 - accuracy: 0.8109\n",
            "Epoch 15/20\n",
            "1563/1563 [==============================] - 95s 60ms/step - loss: 0.5271 - accuracy: 0.8133\n",
            "Epoch 16/20\n",
            "1563/1563 [==============================] - 92s 59ms/step - loss: 0.5139 - accuracy: 0.8177\n",
            "Epoch 17/20\n",
            "1563/1563 [==============================] - 93s 59ms/step - loss: 0.5045 - accuracy: 0.8209\n",
            "Epoch 18/20\n",
            "1563/1563 [==============================] - 94s 60ms/step - loss: 0.4917 - accuracy: 0.8254\n",
            "Epoch 19/20\n",
            "1563/1563 [==============================] - 91s 58ms/step - loss: 0.4868 - accuracy: 0.8268\n",
            "Epoch 20/20\n",
            "1563/1563 [==============================] - 92s 59ms/step - loss: 0.4686 - accuracy: 0.8330\n"
          ]
        },
        {
          "output_type": "execute_result",
          "data": {
            "text/plain": [
              "<keras.callbacks.History at 0x7f7c97189df0>"
            ]
          },
          "metadata": {},
          "execution_count": 13
        }
      ]
    },
    {
      "cell_type": "code",
      "source": [
        "cnn.evaluate(x_test, y_test)"
      ],
      "metadata": {
        "colab": {
          "base_uri": "https://localhost:8080/"
        },
        "id": "6jU_7zp7d4HP",
        "outputId": "36fcd906-0e3c-44a1-f1ac-78eed36c04ef"
      },
      "execution_count": 14,
      "outputs": [
        {
          "output_type": "stream",
          "name": "stdout",
          "text": [
            "313/313 [==============================] - 6s 18ms/step - loss: 0.9990 - accuracy: 0.7054\n"
          ]
        },
        {
          "output_type": "execute_result",
          "data": {
            "text/plain": [
              "[0.9990406036376953, 0.7053999900817871]"
            ]
          },
          "metadata": {},
          "execution_count": 14
        }
      ]
    },
    {
      "cell_type": "code",
      "source": [
        "import numpy as np"
      ],
      "metadata": {
        "id": "-4GPvq5KpbX2"
      },
      "execution_count": 17,
      "outputs": []
    },
    {
      "cell_type": "code",
      "source": [
        "y_predicted = cnn.predict(x_test)\n",
        "y_labels = [np.argmax(i) for i in y_predicted]\n",
        "cm = tf.math.confusion_matrix(labels=y_test, predictions=y_labels)"
      ],
      "metadata": {
        "colab": {
          "base_uri": "https://localhost:8080/"
        },
        "id": "6s5EcjxvpWe_",
        "outputId": "c9b37071-f12b-49a2-8359-212d5d060b37"
      },
      "execution_count": 18,
      "outputs": [
        {
          "output_type": "stream",
          "name": "stdout",
          "text": [
            "313/313 [==============================] - 6s 18ms/step\n"
          ]
        }
      ]
    },
    {
      "cell_type": "code",
      "source": [
        "import seaborn as sns"
      ],
      "metadata": {
        "id": "ri0JeVFQo0Uk"
      },
      "execution_count": 16,
      "outputs": []
    },
    {
      "cell_type": "code",
      "source": [
        "plt.figure(figsize = (12, 8))\n",
        "sns.heatmap(cm, annot=True, fmt='d', cmap='Blues')\n",
        "plt.xlabel('Predicted')\n",
        "plt.ylabel('True')"
      ],
      "metadata": {
        "colab": {
          "base_uri": "https://localhost:8080/",
          "height": 514
        },
        "id": "gHLxcodQo6Wk",
        "outputId": "06faad9b-83f8-43a0-9fc7-0e4ff3421ecc"
      },
      "execution_count": 19,
      "outputs": [
        {
          "output_type": "execute_result",
          "data": {
            "text/plain": [
              "Text(87.0, 0.5, 'True')"
            ]
          },
          "metadata": {},
          "execution_count": 19
        },
        {
          "output_type": "display_data",
          "data": {
            "text/plain": [
              "<Figure size 864x576 with 2 Axes>"
            ],
            "image/png": "[encoded data removed]"
          },
          "metadata": {
            "needs_background": "light"
          }
        }
      ]
    },
    {
      "cell_type": "code",
      "source": [],
      "metadata": {
        "id": "thA0TCIpp5sq"
      },
      "execution_count": null,
      "outputs": []
    }
  ]
}